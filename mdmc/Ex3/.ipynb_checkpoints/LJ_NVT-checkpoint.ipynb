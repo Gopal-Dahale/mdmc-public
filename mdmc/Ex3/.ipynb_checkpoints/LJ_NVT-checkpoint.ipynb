{
 "cells": [
  {
   "cell_type": "markdown",
   "metadata": {},
   "source": [
    "# The Lennard-Jones Potential\n",
    "\n",
    "In this exercise you will study the configuration of a collection of\n",
    "gaseous particles using the Metropolis Monte Carlo algorithm. The system\n",
    "includes $N$ particles within a cubic box of volume $V$ at a given\n",
    "temperature $T$, in any configuration permitted by the Lennard-Jones\n",
    "potential: \n",
    "\n",
    "$$\n",
    "\\begin{aligned}\n",
    "U(r) = \n",
    "\\begin{cases} \n",
    "4\\epsilon \\left[ \\left(\\frac{\\sigma}{r}\\right)^{12} - \\left(\\frac{\\sigma}{r}\\right)^6 \\right] & \\text{if r $\\le$ r$_c$} \\\\\n",
    "                0 & \\text{if r $>$  r$_c$}. \n",
    "\\end{cases}\n",
    "\\end{aligned}\n",
    "$$ (LJpotential)\n",
    "\n",
    "This potential traditionally has an infinite range, however, the\n",
    "potential decays rapidly with separation distance and can be effectively\n",
    "ignored at large $|r|$, resulting in a faster calculation. In practical\n",
    "applications it is customary to establish a cutoff $r_c$ and disregard\n",
    "pairwise interactions separated beyond this radius. This truncation\n",
    "leads to a discontinuity in the pairwise potential energy function;\n",
    "large numbers of these events are likely to spoil energy conservation\n",
    "thus an improvement is to shift the potential such that the energy\n",
    "continuously approaches zero at $r_c$: \n",
    "\n",
    "$$\n",
    "\\begin{aligned}\n",
    "U(r) = \n",
    "\\begin{cases} \n",
    "4\\epsilon \\left( \\left[\\left(\\frac{\\sigma}{r}\\right)^{12} - \\left(\\frac{\\sigma}{r}\\right)^6\\right] - \\left[\\left(\\frac{\\sigma}{r_c}\\right)^{12} - \\left(\\frac{\\sigma}{r_c}\\right)^6\\right]  \\right) & \\text{if $r \\le r_c$} \\\\\n",
    "                0 & \\text{if $r > r_c$}.   \n",
    "                 \\end{cases}\n",
    "\\end{aligned}\n",
    "$$ (shifted_lj)\n",
    "\n",
    "This approach results in a potential that produces discontinuities in\n",
    "the first and higher order derivatives. To compensate, switching\n",
    "functions are often employed to smoothly and continuously taper the pair\n",
    "potential to zero between two cutoff limits.\n",
    "\n",
    "Truncating pair interactions systematically removes a non-trivial\n",
    "contribution to the net potential energy and pressure. For interactions\n",
    "that are cut but not shifted, one can approximately add the interactions\n",
    "beyond $r_c$ to the total energy and pressure, assuming the radial\n",
    "distribution function $g(r > r_c) \\approx 1$: \n",
    "\n",
    "$$\n",
    "\\begin{aligned}\n",
    " U &= U_{pairs} + U_{tail}\\\\\n",
    "P &= P_{pairs} + P_{tail},\\end{aligned}\n",
    "$$ (shift)\n",
    "\n",
    " where\n",
    "\n",
    "$$\n",
    "  \\begin{aligned}\n",
    " U_{tail}&= \\frac{8\\pi N^2}{3V}\\epsilon\\sigma^3\\left[\\frac{1}{3}\\left(\\frac{\\sigma}{r_c}\\right)^9 - \\left(\\frac{\\sigma}{r_c}\\right)^3\\right]\\\\\n",
    "P_{tail}&= \\frac{16\\pi N^2}{3V}\\epsilon\\sigma^3\\left[\\frac{2}{3}\\left(\\frac{\\sigma}{r_c}\\right)^9 - \\left(\\frac{\\sigma}{r_c}\\right)^3\\right].\n",
    "\\end{aligned}\n",
    "$$ (u_tail_pot)\n",
    "\n",
    "To sample configurational space using the Lennard-Jones potential, a\n",
    "randomly selected particle is first randomly translated to generate a\n",
    "new system configuration. Whether the new configuration is accepted\n",
    "depends on the acceptance probability discussed in the preceding section. This procedure repeats iteratively such\n",
    "that classical phase space is directly sampled and ensemble averages of\n",
    "physical properties become arithmetic averages over their sampled\n",
    "values.\n",
    "\n",
    "## Configurational Sampling Code"
   ]
  },
  {
   "cell_type": "markdown",
   "metadata": {},
   "source": [
    "### Imports and Helper Functions\n",
    "\n",
    "Below are some necessary imports and useful helper functions to make the code run, just run the following cells once"
   ]
  },
  {
   "cell_type": "code",
   "execution_count": 1,
   "metadata": {
    "tags": [
     "hide-input"
    ]
   },
   "outputs": [
    {
     "data": {
      "text/html": [
       "<style>\n",
       "    .admonition, div.admonition{margin: 0em auto;\n",
       "    padding: 0 .6rem .8rem;\n",
       "    overflow: hidden;\n",
       "    page-break-inside: avoid;\n",
       "    border-left: .2rem solid;\n",
       "    border-left-color: rgba(var(--pst-color-admonition-default),1);\n",
       "    border-bottom-color: rgba(var(--pst-color-admonition-default),1);\n",
       "    border-right-color: rgba(var(--pst-color-admonition-default),1);\n",
       "    border-top-color: rgba(var(--pst-color-admonition-default),1);\n",
       "    border-radius: .2rem;\n",
       "    box-shadow: 0 .2rem .5rem rgba(0,0,0,.05),0 0 .0625rem rgba(0,0,0,.1);\n",
       "    transition: color .25s,background-color .25s,border-color .25s;}\n",
       ".exercise {\n",
       "    border-color: #b51f1f !important;\n",
       "}\n",
       "     div.admonition, div.topic, blockquote {\n",
       "    clear: left;\n",
       "}\n",
       "\n",
       "div.admonition {\n",
       "    margin-top: 10px;\n",
       "    margin-bottom: 10px;\n",
       "}\n",
       "\n",
       ".admonition {\n",
       "    border-radius: .4em;\n",
       "    box-shadow: 0 0.2rem 0.5rem rgb(0 0 0 / 5%), 0 0 0.0625rem rgb(0 0 0 / 10%);\n",
       "}\n",
       "\n",
       ".admonition>.title, div.admonition>.title {\n",
       "    position: relative;\n",
       "  margin-top:-10px;\n",
       "  margin-left:-0.7em;\n",
       "    padding: .4rem .6rem .4rem .6rem;\n",
       "    font-weight: 700;\n",
       "    }\n",
       "\n",
       ".exercise>.title {\n",
       "    background-color: #e6e6e6 !important;\n",
       "    color: #212121 !important;\n",
       "}\n",
       "     </style>"
      ],
      "text/plain": [
       "<IPython.core.display.HTML object>"
      ]
     },
     "execution_count": 1,
     "metadata": {},
     "output_type": "execute_result"
    }
   ],
   "source": [
    "# Necessary imports\n",
    "import os\n",
    "\n",
    "# import pytraj as pt\n",
    "import sys\n",
    "\n",
    "import MDAnalysis as md\n",
    "import numpy as np\n",
    "\n",
    "sys.path.append(\"..\")\n",
    "import helpers\n",
    "from helpers import *\n",
    "\n",
    "helpers.set_style()"
   ]
  },
  {
   "cell_type": "code",
   "execution_count": 2,
   "metadata": {
    "tags": [
     "hide-input"
    ]
   },
   "outputs": [],
   "source": [
    "def remove_file(filename):\n",
    "    \"Delete trajectory file with previous runs\"\n",
    "    try:\n",
    "        os.remove(filename)\n",
    "    except:\n",
    "        pass\n",
    "\n",
    "\n",
    "def printXYZ(coords, filename, step, mode=\"vmd\"):\n",
    "    \"\"\"Write Coordinates to trajectory file\"\"\"\n",
    "    nPart = coords.shape[0]\n",
    "    with open(filename + \".pdb\", \"a\") as xyz:\n",
    "        xyz.write(\"MODEL\\n\")\n",
    "        for i in range(nPart):\n",
    "            xyz.write(\n",
    "                f\"ATOM    {i+1:3}  Ar      X   1      {coords[i][0]: 3.3f}  {coords[i][1]: 3.3f}  {coords[i][2]: 3.3f}  0.00  0.00          Ar\\n\"\n",
    "            )\n",
    "        xyz.write(\"ENDMDL\\n\")"
   ]
  },
  {
   "cell_type": "code",
   "execution_count": 3,
   "metadata": {
    "tags": [
     "hide-input"
    ]
   },
   "outputs": [],
   "source": [
    "def placeParticlesOnGrid(nPart=100, density=0.85):\n",
    "    \"\"\"Initialize LJ Particles on grid\"\"\"\n",
    "    coords = np.zeros((nPart, 3))\n",
    "    L = (nPart / density) ** (1.0 / 3)\n",
    "\n",
    "    # L is box length\n",
    "    # The volume of Cube is V = N/rho\n",
    "    # L = V^(1/3) = (N/rho)^(1/3)\n",
    "\n",
    "    nCube = 2\n",
    "\n",
    "    while nCube**3 < nPart:\n",
    "        nCube += 1\n",
    "\n",
    "    # nCube is grid cube size.\n",
    "    # This ensures that we have enough grid points to place nPart particles.\n",
    "\n",
    "    index = np.array([0, 0, 0])\n",
    "\n",
    "    for part in range(nPart):\n",
    "        # The loop places each particle at a position corresponding to an integer grid index\n",
    "        # shifted by half a grid spacing (L/nCube) in each direction.\n",
    "        # This centers the particles inside each grid cell.\n",
    "        coords[part] = index + np.array([0.5, 0.5, 0.5]) * (L / nCube)\n",
    "\n",
    "        # Update grid index\n",
    "        # This iterates over all grid points in a nested manner (like counting in base nCube).\n",
    "        # Once index[0] reaches nCube, it resets to 0, and index[1] increments (moving to the next row in the grid).\n",
    "        # Once index[1] reaches nCube, it resets, and index[2] increments (moving to the next layer in the grid).\n",
    "        index[0] += 1\n",
    "        if index[0] == nCube:\n",
    "            index[0] = 0\n",
    "            index[1] += 1\n",
    "            if index[1] == nCube:\n",
    "                index[1] = 0\n",
    "                index[2] += 1\n",
    "\n",
    "    return coords, L"
   ]
  },
  {
   "cell_type": "code",
   "execution_count": 4,
   "metadata": {
    "tags": [
     "hide-input"
    ]
   },
   "outputs": [],
   "source": [
    "def LJ_Energy(coords, L):\n",
    "    \"\"\"Calculate energy according to Lennard Jones Potential\"\"\"\n",
    "    energy = 0\n",
    "\n",
    "    nPart = coords.shape[0]\n",
    "\n",
    "    for partA in range(nPart - 1):\n",
    "        for partB in range(partA + 1, nPart):\n",
    "            dr = coords[partA] - coords[partB]\n",
    "            # dr is the distance vector between two particles.\n",
    "\n",
    "            dr = distPBC3D(dr, L)\n",
    "\n",
    "            dr2 = np.sum(np.dot(dr, dr))\n",
    "\n",
    "            # Lennard-Jones potential:\n",
    "            # U(r) = 4*epsilon* [(sigma/r)^12 - (sigma/r)^6]\n",
    "            # Here, we set sigma = 1, epsilon = 1 (reduced distance and energy units). Therefore:\n",
    "            # U(r) = 4 * [(1/r)^12 - (1/r)^6]\n",
    "            # For efficiency, we will multiply by 4 only after summing\n",
    "            # up all the energies.\n",
    "\n",
    "            invDr6 = 1.0 / (dr2**3)  # 1/r^6\n",
    "\n",
    "            energy = energy + (invDr6 * (invDr6 - 1))\n",
    "\n",
    "    return energy * 4"
   ]
  },
  {
   "cell_type": "code",
   "execution_count": 5,
   "metadata": {
    "tags": [
     "hide-input"
    ]
   },
   "outputs": [],
   "source": [
    "def distPBC3D(dr, L):\n",
    "    \"\"\"Calculate distance according to minimum image convention\"\"\"\n",
    "    hL = L / 2.0\n",
    "\n",
    "    # Distance vector needs to be in [-hLx, hLX], [-hLy, hLy] [-hLz,hLz]\n",
    "\n",
    "    for dim in range(3):\n",
    "        # If the distance along any dimension exceeds half the box length (hL),\n",
    "        # it means the particle has \"crossed\" the boundary and should wrap around:\n",
    "        if dr[dim] > hL:\n",
    "            # The distance along this dimension exceeds half the box,\n",
    "            # so we subtract L to \"wrap around\" to the opposite side.\n",
    "            dr[dim] -= L\n",
    "        elif dr[dim] < -hL:\n",
    "            # The distance is negative and exceeds the half box on the other side,\n",
    "            # so we add L to wrap to the opposite side.\n",
    "            dr[dim] += L\n",
    "\n",
    "    return dr"
   ]
  },
  {
   "cell_type": "code",
   "execution_count": 6,
   "metadata": {
    "tags": [
     "hide-input"
    ]
   },
   "outputs": [],
   "source": [
    "def putParticlesInBox(vec, L):\n",
    "    \"\"\"Put coordinates back into primary periodic image\"\"\"\n",
    "    # Coord needs to be in [0, L], [0,L] [0,L]\n",
    "\n",
    "    for dim in range(3):\n",
    "        if vec[dim] > L:\n",
    "            vec[dim] -= L\n",
    "        elif vec[dim] < -L:\n",
    "            vec[dim] += L\n",
    "\n",
    "    return vec"
   ]
  },
  {
   "cell_type": "code",
   "execution_count": 7,
   "metadata": {
    "tags": [
     "hide-input"
    ]
   },
   "outputs": [],
   "source": [
    "def deltaLJ(coords, trialPos, part, L):\n",
    "    \"\"\"Calculate Energy change of Move\"\"\"\n",
    "    deltaE = 0\n",
    "\n",
    "    npart = coords.shape[0]\n",
    "\n",
    "    for otherPart in range(npart):\n",
    "        if otherPart == part:\n",
    "            continue\n",
    "\n",
    "        # Particle Particle dist\n",
    "        drNew = coords[otherPart] - trialPos\n",
    "        drOld = coords[otherPart] - coords[part]\n",
    "\n",
    "        drNew = distPBC3D(drNew, L)\n",
    "        drOld = distPBC3D(drOld, L)\n",
    "\n",
    "        dr2_New = np.sum(np.dot(drNew, drNew))\n",
    "        dr2_Old = np.sum(np.dot(drOld, drOld))\n",
    "\n",
    "        # Lennard-Jones potential:\n",
    "        # U(r) = 4*epsilon* [(sigma/r)^12 - (sigma/r)^6]\n",
    "        # with sigma = 1, epsilon = 1 (reduced units).\n",
    "        # =>\n",
    "        # U(r) = 4 * [(1/r)^12 - (1/r)^6]\n",
    "        # We multiply by 4 only in the end\n",
    "\n",
    "        invDr6_New = 1.0 / (dr2_New**3)\n",
    "        invDr6_Old = 1.0 / (dr2_Old**3)\n",
    "\n",
    "        eNew = invDr6_New * (invDr6_New - 1)\n",
    "        eOld = invDr6_Old * (invDr6_Old - 1)\n",
    "\n",
    "        deltaE = deltaE + eNew - eOld\n",
    "\n",
    "        return deltaE * 4"
   ]
  },
  {
   "cell_type": "markdown",
   "metadata": {},
   "source": [
    "### Main Code NVT Ensemble\n",
    "Here you can find the main code to run MC in the NVT ensemble"
   ]
  },
  {
   "cell_type": "code",
   "execution_count": 10,
   "metadata": {
    "tags": []
   },
   "outputs": [],
   "source": [
    "# Set configuration parameters\n",
    "nPart = 100\n",
    "# Number of particles\n",
    "density = 0.85\n",
    "# Density of particles\n",
    "\n",
    "# Set simulation parameters\n",
    "Temp = 2.0\n",
    "# Simulation temperature\n",
    "beta = 1.0 / Temp\n",
    "# Inverse temperature\n",
    "maxDr = 0.1\n",
    "# Maximal displacement\n",
    "\n",
    "nSteps = 1000\n",
    "# Total simulation time (in integration steps)\n",
    "printFreq = 100  # Printing frequency"
   ]
  },
  {
   "cell_type": "code",
   "execution_count": null,
   "metadata": {
    "tags": []
   },
   "outputs": [
    {
     "name": "stdout",
     "output_type": "stream",
     "text": [
      "MC Step  0  Energy -101.19402\n",
      "MC Step 100  Energy -105.05988\n",
      "MC Step 200  Energy -113.08270\n",
      "MC Step 300  Energy -103.59304\n",
      "MC Step 400  Energy  -91.69810\n",
      "MC Step 500  Energy  -98.88674\n"
     ]
    }
   ],
   "source": [
    "def monte_carlo():\n",
    "    # Remove trajectory file\n",
    "    remove_file(\"trajectory.pdb\")\n",
    "\n",
    "    # Set initial configuration\n",
    "    coords, L = placeParticlesOnGrid(nPart, density)  #\n",
    "\n",
    "    # Calculate initial energy\n",
    "    energy = LJ_Energy(coords, L)\n",
    "\n",
    "    for step in range(nSteps):\n",
    "        if step % printFreq == 0:\n",
    "            print(f\"MC Step {step:2}  Energy {energy:10.5f}\")\n",
    "            printXYZ(coords, \"trajectory\", step)\n",
    "        for i in range(nPart):\n",
    "\n",
    "            # For each particle, the algorithm attempts a random move and\n",
    "            # then decides whether to accept it based on the change in energy.\n",
    "\n",
    "            # np.random.rand(1, 3) generates random values between 0 and 1 for each of the three dimensions.\n",
    "            # The subtraction by 0.5 ensures the displacement is centered around 0\n",
    "            rTrial = coords[i] + maxDr * (np.random.rand(1, 3).squeeze() - 0.5)\n",
    "            rTrial = putParticlesInBox(rTrial, L)\n",
    "\n",
    "            deltaE = deltaLJ(coords, rTrial, i, L)\n",
    "\n",
    "            if beta * deltaE < 0:\n",
    "                P_acc = np.exp(beta * deltaE)\n",
    "            else:\n",
    "                P_acc = np.exp(-beta * deltaE)\n",
    "\n",
    "            if np.random.rand() < P_acc:\n",
    "                coords[i] = rTrial\n",
    "                energy += deltaE\n",
    "\n",
    "\n",
    "monte_carlo()"
   ]
  },
  {
   "cell_type": "markdown",
   "metadata": {},
   "source": [
    "### Visualization of the Results\n",
    "Executing the code below you can visualize the MC trajectory for the particles"
   ]
  },
  {
   "cell_type": "code",
   "execution_count": 10,
   "metadata": {
    "tags": []
   },
   "outputs": [
    {
     "data": {
      "application/vnd.jupyter.widget-view+json": {
       "model_id": "9e702f4aadcb40348d1a40b8e69db96f",
       "version_major": 2,
       "version_minor": 0
      },
      "text/plain": [
       "Tab(children=(VBox(children=(HBox(children=(Play(value=0, description='Press play', max=9, show_repeat=False),…"
      ]
     },
     "execution_count": 10,
     "metadata": {},
     "output_type": "execute_result"
    }
   ],
   "source": [
    "traj = md.Universe(\"trajectory.pdb\")\n",
    "show_trajectory(traj, only_spheres=True)"
   ]
  },
  {
   "cell_type": "markdown",
   "metadata": {},
   "source": [
    ":::{admonition} Exercise 8\n",
    ":class: exercise\n",
    "Perform a simulation at $T = 2.0$ and $\\rho \\in [0.05, 0.5, 2, 10.0]$. What do you observe?\n",
    ":::"
   ]
  },
  {
   "cell_type": "code",
   "execution_count": 11,
   "metadata": {},
   "outputs": [
    {
     "name": "stdout",
     "output_type": "stream",
     "text": [
      "Density: 0.05\n",
      "MC Step  0  Energy -230.95720\n",
      "MC Step 100  Energy -225.40460\n",
      "MC Step 200  Energy -219.84345\n",
      "MC Step 300  Energy -211.50925\n",
      "MC Step 400  Energy -215.24013\n",
      "MC Step 500  Energy -215.63089\n",
      "MC Step 600  Energy -213.63791\n",
      "MC Step 700  Energy -210.87250\n",
      "MC Step 800  Energy -212.79906\n",
      "MC Step 900  Energy -212.77238\n",
      "Density: 0.5\n",
      "MC Step  0  Energy -246.24139\n",
      "MC Step 100  Energy -252.74088\n",
      "MC Step 200  Energy -262.88903\n",
      "MC Step 300  Energy -239.04427\n",
      "MC Step 400  Energy -232.00021\n",
      "MC Step 500  Energy -213.36948\n",
      "MC Step 600  Energy -220.85999\n",
      "MC Step 700  Energy -198.28131\n",
      "MC Step 800  Energy -191.17250\n",
      "MC Step 900  Energy -195.59893\n",
      "Density: 2\n",
      "MC Step  0  Energy 161962923.71579\n",
      "MC Step 100  Energy 161962929.72003\n",
      "MC Step 200  Energy 161962914.44443\n",
      "MC Step 300  Energy 161962908.72916\n",
      "MC Step 400  Energy 161962900.56848\n",
      "MC Step 500  Energy 161962853.74464\n",
      "MC Step 600  Energy 161962820.32669\n",
      "MC Step 700  Energy 161962821.85140\n",
      "MC Step 800  Energy 161962831.44091\n",
      "MC Step 900  Energy 161962852.70289\n",
      "Density: 10.0\n",
      "MC Step  0  Energy 3761914660492.07617\n",
      "MC Step 100  Energy 3761914660551.24805\n",
      "MC Step 200  Energy 3761914660617.94531\n",
      "MC Step 300  Energy 3761914660641.66553\n",
      "MC Step 400  Energy 3761914660638.38623\n",
      "MC Step 500  Energy 3761914660680.10107\n",
      "MC Step 600  Energy 3761914660672.41943\n",
      "MC Step 700  Energy 3761914660650.01660\n",
      "MC Step 800  Energy 3761914660656.27148\n",
      "MC Step 900  Energy 3761914660624.68115\n"
     ]
    }
   ],
   "source": [
    "Temp = 2.0\n",
    "for density in [0.05, 0.5, 2, 10.0]:\n",
    "    print(f\"Density: {density}\")\n",
    "    monte_carlo()"
   ]
  },
  {
   "cell_type": "markdown",
   "metadata": {},
   "source": [
    "**Solution**\n",
    "\n",
    "Lower densities (0.05 and 0.5) lead to lower energy configurations where particles are less tightly packed, and their interactions are fewer, causing the system to be in a relatively stable state with lower potential energy.\n",
    "\n",
    "Higher densities (2.0 and 10.0) lead to much higher energy configurations due to particles being forced into closer proximity, resulting in stronger repulsive interactions that drive up the system's energy. As the density increases, the system becomes highly constrained, with almost no movement."
   ]
  },
  {
   "cell_type": "markdown",
   "metadata": {},
   "source": [
    ":::{admonition} Exercise 9\n",
    ":class: exercise\n",
    "The program produces a trajectory. Look at it and explain the behavior of the system over time for $\\rho$ 0.85\n",
    ":::"
   ]
  },
  {
   "cell_type": "code",
   "execution_count": 12,
   "metadata": {},
   "outputs": [
    {
     "name": "stdout",
     "output_type": "stream",
     "text": [
      "MC Step  0  Energy -101.19402\n",
      "MC Step 100  Energy  -98.09852\n",
      "MC Step 200  Energy  -99.47495\n",
      "MC Step 300  Energy -120.83622\n",
      "MC Step 400  Energy -108.63561\n",
      "MC Step 500  Energy  -91.00243\n",
      "MC Step 600  Energy  -86.58230\n",
      "MC Step 700  Energy -105.28473\n",
      "MC Step 800  Energy -115.11104\n",
      "MC Step 900  Energy -120.82599\n"
     ]
    }
   ],
   "source": [
    "density = 0.85\n",
    "monte_carlo()\n",
    "traj = md.Universe(\"trajectory.pdb\")"
   ]
  },
  {
   "cell_type": "markdown",
   "metadata": {},
   "source": [
    "**Solution**\n",
    "Particles move randomly but stay within interaction ranges due to the LJ potential. Clustering occurs due to attractive interactions.\n",
    "The system may exhibit liquid-like behavior at this intermediate density."
   ]
  },
  {
   "cell_type": "markdown",
   "metadata": {},
   "source": [
    ":::{admonition} Exercise 10\n",
    ":class: exercise\n",
    "Instead of performing a trial move in which only one particle is displaced, one can do a trial move in which more particles are\n",
    " displaced simultaneously. You can find below a modified version of the code, where for each step `nParticlesMove` are displaced. \n",
    "From the given code, explain how a trial move is now performed and what changes with respect to the previous case. \n",
    "    \n",
    "*Hint*: It can be helpful to perform different tests, e.g. using `nParticlesMove = nPart` or, for example, `nParticlesMove = nPart/2`. Describe the changes you see in the energies and the trajectories in this new version of the code. \n",
    ":::"
   ]
  },
  {
   "cell_type": "code",
   "execution_count": 13,
   "metadata": {
    "tags": []
   },
   "outputs": [],
   "source": [
    "# Set configuration parameters\n",
    "nPart = 100\n",
    "# Number of particles\n",
    "density = 0.85\n",
    "# Density of particles\n",
    "\n",
    "# Set simulation parameters\n",
    "Temp = 2.0\n",
    "# Simulation temperature\n",
    "beta = 1.0 / Temp\n",
    "# Inverse temperature\n",
    "maxDr = 0.1\n",
    "# Maximal displacement\n",
    "\n",
    "nSteps = 1000\n",
    "# Total simulation time (in integration steps)\n",
    "printFreq = 100  # Printing frequency"
   ]
  },
  {
   "cell_type": "code",
   "execution_count": 14,
   "metadata": {
    "tags": []
   },
   "outputs": [
    {
     "name": "stdout",
     "output_type": "stream",
     "text": [
      "MC Step  0  Energy -101.19402\n",
      "MC Step 100  Energy -101.19402\n",
      "MC Step 200  Energy -101.19402\n",
      "MC Step 300  Energy -101.19402\n",
      "MC Step 400  Energy -101.19402\n",
      "MC Step 500  Energy -101.19402\n",
      "MC Step 600  Energy -101.19402\n",
      "MC Step 700  Energy -101.19402\n",
      "MC Step 800  Energy -101.19402\n",
      "MC Step 900  Energy -101.19402\n"
     ]
    }
   ],
   "source": [
    "def monte_carlo_mult(factor=1.0):\n",
    "    nParticlesMove = int(nPart / factor)  # Number of particles moved simultaneously\n",
    "\n",
    "    # Remove trajectory file\n",
    "    remove_file(\"trajectory.pdb\")\n",
    "\n",
    "    # Set initial configuration\n",
    "    coords, L = placeParticlesOnGrid(nPart, density)  #\n",
    "\n",
    "    for step in range(nSteps):\n",
    "        TrialCoords = coords.copy()\n",
    "        if step % printFreq == 0:\n",
    "            print(f\"MC Step {step:2}  Energy {LJ_Energy(coords,L):10.5f}\")\n",
    "            printXYZ(coords, \"trajectory\", step)\n",
    "        for i in np.random.randint(\n",
    "            0, nPart, nParticlesMove\n",
    "        ):  # the particles to move are extracted randomly between all the particles\n",
    "            # np.random.randint(low, high, N) returns N random integers from low to high\n",
    "            rTrial = TrialCoords[i] + maxDr * (np.random.rand(1, 3).squeeze() - 0.5)\n",
    "            rTrial = putParticlesInBox(rTrial, L)\n",
    "            TrialCoords[i] = rTrial\n",
    "\n",
    "        deltaE = LJ_Energy(TrialCoords, L) - LJ_Energy(coords, L)\n",
    "        if np.random.rand() < np.exp(-beta * deltaE):\n",
    "            coords = TrialCoords\n",
    "\n",
    "\n",
    "monte_carlo_mult()"
   ]
  },
  {
   "cell_type": "code",
   "execution_count": 15,
   "metadata": {
    "tags": []
   },
   "outputs": [
    {
     "data": {
      "application/vnd.jupyter.widget-view+json": {
       "model_id": "eb7a0d0b4d134641bac52c02a63556d7",
       "version_major": 2,
       "version_minor": 0
      },
      "text/plain": [
       "Tab(children=(VBox(children=(HBox(children=(Play(value=0, description='Press play', max=9, show_repeat=False),…"
      ]
     },
     "execution_count": 15,
     "metadata": {},
     "output_type": "execute_result"
    }
   ],
   "source": [
    "traj = md.Universe(\"trajectory.pdb\")\n",
    "show_trajectory(traj, only_spheres=True)"
   ]
  },
  {
   "cell_type": "code",
   "execution_count": 16,
   "metadata": {},
   "outputs": [
    {
     "name": "stdout",
     "output_type": "stream",
     "text": [
      "MC Step  0  Energy -101.19402\n",
      "MC Step 100  Energy -101.19402\n",
      "MC Step 200  Energy -101.19402\n",
      "MC Step 300  Energy  -98.85250\n",
      "MC Step 400  Energy  -98.85250\n",
      "MC Step 500  Energy  -98.85250\n",
      "MC Step 600  Energy  -98.85250\n",
      "MC Step 700  Energy  -98.85250\n",
      "MC Step 800  Energy  -98.85250\n",
      "MC Step 900  Energy  -98.85250\n"
     ]
    }
   ],
   "source": [
    "monte_carlo_mult(2)"
   ]
  },
  {
   "cell_type": "code",
   "execution_count": 17,
   "metadata": {},
   "outputs": [
    {
     "name": "stdout",
     "output_type": "stream",
     "text": [
      "MC Step  0  Energy -101.19402\n",
      "MC Step 100  Energy  -99.01480\n",
      "MC Step 200  Energy  -99.85370\n",
      "MC Step 300  Energy  -92.91516\n",
      "MC Step 400  Energy  -92.91516\n",
      "MC Step 500  Energy  -92.91516\n",
      "MC Step 600  Energy  -92.91516\n",
      "MC Step 700  Energy  -92.91516\n",
      "MC Step 800  Energy  -92.91516\n",
      "MC Step 900  Energy  -92.60043\n"
     ]
    }
   ],
   "source": [
    "monte_carlo_mult(4)"
   ]
  },
  {
   "cell_type": "code",
   "execution_count": 18,
   "metadata": {},
   "outputs": [
    {
     "name": "stdout",
     "output_type": "stream",
     "text": [
      "MC Step  0  Energy -101.19402\n",
      "MC Step 100  Energy -103.54017\n",
      "MC Step 200  Energy -124.06711\n",
      "MC Step 300  Energy -132.05054\n",
      "MC Step 400  Energy -132.05054\n",
      "MC Step 500  Energy -133.44610\n",
      "MC Step 600  Energy -129.21553\n",
      "MC Step 700  Energy -138.93852\n",
      "MC Step 800  Energy -138.70651\n",
      "MC Step 900  Energy -133.44942\n"
     ]
    }
   ],
   "source": [
    "monte_carlo_mult(8)"
   ]
  },
  {
   "cell_type": "markdown",
   "metadata": {},
   "source": [
    "**Solution**\n",
    "`nParticlesMove` particles are displaced simultaneously. These particles are chosen randomly, and each of them is moved by a random displacement within the simulation box. A trial configuration `TrialCoords` is generated by copying the current coordinates `coords`. For each of the `nParticlesMove` particles, a new position is calculated.\n",
    "\n",
    "For `nParticlesMove = nPart`, the behavior suggests that when the number of particles displaced is too large, the energy difference $\\Delta E$ between configurations is too significant, resulting in either high rejection rates or too large of a move to allow meaningful exploration of configuration space.\n",
    " \n",
    "For `nParticlesMove = nPart/2`, `nPart/4`, `nPart/8` the energy fluctuates, showing that the system is exploring a variety of configurations and states.\n",
    "\n",
    "The system seems to equilibrate better when fewer particles are moved at each step ompared to displacing all particles at once."
   ]
  },
  {
   "cell_type": "markdown",
   "metadata": {},
   "source": [
    "### Main Code NPT Ensemble\n",
    "These are the modifcations to run in the NPT ensemble"
   ]
  },
  {
   "cell_type": "markdown",
   "metadata": {},
   "source": [
    ":::{admonition} Exercise 11 - Bonus\n",
    ":class: exercise\n",
    "The code to sample the NPT ensemble is provided below. What needs to be changed in the code to sample from the isothermic-isobaric ensemble (NpT) instead of the microcanonical ensemble (NVT)?\n",
    ":::\n",
    "\n",
    "**Solution**\n",
    "\n",
    "<!-- <div class=\"alert alert-block alert-danger\"><b>I think its already NPT. </div> -->\n",
    "\n",
    "we change volume to keep the pressure constant. PV = nRT."
   ]
  },
  {
   "cell_type": "code",
   "execution_count": 19,
   "metadata": {
    "scrolled": true
   },
   "outputs": [],
   "source": [
    "# Initialize\n",
    "# ===================\n",
    "\n",
    "# Set configuration parameters\n",
    "nPart = 100  # Number of particles\n",
    "density = 0.85  # Density of particles\n",
    "\n",
    "# Set simulation parameters\n",
    "Temp = 2.0  # Simulation temperature\n",
    "beta = 1.0 / Temp  # Inverse temperature\n",
    "maxDr = 0.001  # Maximal displacement\n",
    "press = 1.0\n",
    "maxDv = 0.1  # Change in volume\n",
    "\n",
    "nSteps = 1000\n",
    "# Total simulation time (in integration steps)\n",
    "printFreq = 100  # Printing frequency\n",
    "sampleFreq = 100"
   ]
  },
  {
   "cell_type": "code",
   "execution_count": 20,
   "metadata": {
    "tags": []
   },
   "outputs": [
    {
     "name": "stdout",
     "output_type": "stream",
     "text": [
      "MC Step  0  Energy -101.24351\n",
      "Average Box Size 4.900\n",
      "MC Step 100  Energy -174.35225\n",
      "Average Box Size 4.922\n",
      "MC Step 200  Energy -328.82061\n",
      "Average Box Size 4.976\n",
      "MC Step 300  Energy -328.97679\n",
      "Average Box Size 5.003\n",
      "MC Step 400  Energy -329.31112\n",
      "Average Box Size 5.019\n",
      "MC Step 500  Energy -329.43960\n",
      "Average Box Size 5.030\n",
      "MC Step 600  Energy -330.02092\n",
      "Average Box Size 5.037\n",
      "MC Step 700  Energy -330.23127\n",
      "Average Box Size 5.043\n",
      "MC Step 800  Energy -365.50426\n",
      "Average Box Size 5.055\n",
      "MC Step 900  Energy -395.58316\n",
      "Average Box Size 5.070\n"
     ]
    }
   ],
   "source": [
    "# Remove trajectory file\n",
    "remove_file(\"trajectory.pdb\")\n",
    "\n",
    "# Set initial configuration\n",
    "coords, L = placeParticlesOnGrid(nPart, density)\n",
    "\n",
    "# Calculate initial energy\n",
    "energy = LJ_Energy(coords, L)\n",
    "\n",
    "avgL = 0\n",
    "sampleCounter = 0  # Set counter to 0\n",
    "\n",
    "for step in range(nSteps):\n",
    "\n",
    "    # Choose whether to do a volume move or a displacement move\n",
    "\n",
    "    if np.random.rand() * (nPart + 1) + 1 < nPart:\n",
    "        # Displacement move\n",
    "        for i in range(nPart):\n",
    "            rTrial = coords[i] + maxDr * (np.random.rand(1, 3).squeeze() - 0.5)\n",
    "            rTrial = putParticlesInBox(rTrial, L)\n",
    "\n",
    "            deltaE = deltaLJ(coords, rTrial, i, L)\n",
    "\n",
    "            if np.random.rand() < np.exp(-beta * deltaE):\n",
    "                coords[i] = rTrial\n",
    "                energy += deltaE\n",
    "    else:\n",
    "        # Volume move\n",
    "        oldV = L**3\n",
    "\n",
    "        lnvTrial = np.log(oldV) + (np.random.rand() - 0.5) * maxDv\n",
    "        vTrial = np.exp(lnvTrial)\n",
    "        newL = vTrial ** (1.0 / 3)\n",
    "\n",
    "        # Rescale coords\n",
    "        coordsTrial = coords * (newL / L)\n",
    "\n",
    "        eTrial = LJ_Energy(coordsTrial, newL)\n",
    "\n",
    "        weight = (\n",
    "            (eTrial - energy)\n",
    "            + press * (vTrial - oldV)\n",
    "            - (nPart + 1) * Temp * np.log(vTrial / oldV)\n",
    "        )\n",
    "\n",
    "        if np.random.rand() < np.exp(-beta * weight):\n",
    "            coords = coordsTrial\n",
    "            energy = eTrial\n",
    "            L = newL\n",
    "\n",
    "    if step % printFreq == 0:\n",
    "        print(f\"MC Step {step:2}  Energy {energy:10.5f}\")\n",
    "        printXYZ(coords, \"npt_trajectory\", step, mode=\"python\")\n",
    "    if step % sampleFreq == 0:\n",
    "        sampleCounter += 1\n",
    "        avgL += L\n",
    "        print(f\"Average Box Size {avgL/sampleCounter:3.3f}\")"
   ]
  },
  {
   "cell_type": "code",
   "execution_count": null,
   "metadata": {},
   "outputs": [],
   "source": []
  }
 ],
 "metadata": {
  "celltoolbar": "Tags",
  "hide_input": false,
  "kernelspec": {
   "display_name": "Python (jetix)",
   "language": "python",
   "name": "jetix"
  },
  "language_info": {
   "codemirror_mode": {
    "name": "ipython",
    "version": 3
   },
   "file_extension": ".py",
   "mimetype": "text/x-python",
   "name": "python",
   "nbconvert_exporter": "python",
   "pygments_lexer": "ipython3",
   "version": "3.10.0"
  },
  "varInspector": {
   "cols": {
    "lenName": 16,
    "lenType": 16,
    "lenVar": 40
   },
   "kernels_config": {
    "python": {
     "delete_cmd_postfix": "",
     "delete_cmd_prefix": "del ",
     "library": "var_list.py",
     "varRefreshCmd": "print(var_dic_list())"
    },
    "r": {
     "delete_cmd_postfix": ") ",
     "delete_cmd_prefix": "rm(",
     "library": "var_list.r",
     "varRefreshCmd": "cat(var_dic_list()) "
    }
   },
   "types_to_exclude": [
    "module",
    "function",
    "builtin_function_or_method",
    "instance",
    "_Feature"
   ],
   "window_display": false
  }
 },
 "nbformat": 4,
 "nbformat_minor": 4
}
