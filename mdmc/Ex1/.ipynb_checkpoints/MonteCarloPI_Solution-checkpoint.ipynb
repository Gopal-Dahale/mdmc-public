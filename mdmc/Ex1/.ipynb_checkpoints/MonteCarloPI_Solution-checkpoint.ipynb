{
 "cells": [
  {
   "cell_type": "markdown",
   "metadata": {},
   "source": [
    "## Exercise Monte Carlo Pi JUPYTER"
   ]
  },
  {
   "cell_type": "code",
   "execution_count": 63,
   "metadata": {},
   "outputs": [],
   "source": [
    "import random as r\n",
    "import math as m\n",
    "import matplotlib.pyplot as plt\n",
    "\n",
    "from ipywidgets import interact, interactive, fixed, interact_manual\n",
    "import ipywidgets as widgets"
   ]
  },
  {
   "cell_type": "code",
   "execution_count": 64,
   "metadata": {},
   "outputs": [],
   "source": [
    "def estimatePI(n_trials=10):\n",
    "\n",
    "    \n",
    "    successfulHits = 0\n",
    "    circleRadius = 0.5\n",
    "    squareLength = 1.0\n",
    "\n",
    "    inside_x,inside_y=[],[]\n",
    "    outside_x,outside_y=[],[]\n",
    "    \n",
    "    # Iterate for the number of darts.\n",
    "    for i in range(0, n_trials):\n",
    "        x = r.uniform(-squareLength/2, squareLength/2)\n",
    "        y = r.uniform(-squareLength/2, squareLength/2)\n",
    "        \n",
    "        # Increment if inside unit circle.\n",
    "        if (x**2 + y**2) < circleRadius**2:\n",
    "            successfulHits += 1\n",
    "            inside_x.append(x)\n",
    "            inside_y.append(y)\n",
    "        else:\n",
    "            outside_x.append(x)\n",
    "            outside_y.append(y)\n",
    "\n",
    "    # Estimate Pi \n",
    "    pi = (float(successfulHits) / n_trials) * (squareLength**2/circleRadius**2)\n",
    "\n",
    "    print(f\"{pi:.10f}\")\n",
    "\n",
    "    fig, ax=plt.subplots(1, figsize=(5,5))\n",
    "\n",
    "    ax.scatter(inside_x,inside_y)\n",
    "    ax.scatter(outside_x,outside_y)\n",
    "\n",
    "    plt.show()"
   ]
  },
  {
   "cell_type": "code",
   "execution_count": 65,
   "metadata": {},
   "outputs": [
    {
     "data": {
      "application/vnd.jupyter.widget-view+json": {
       "model_id": "41e33baef20346c5a171c22b205f498e",
       "version_major": 2,
       "version_minor": 0
      },
      "text/plain": [
       "A Jupyter Widget"
      ]
     },
     "metadata": {},
     "output_type": "display_data"
    },
    {
     "data": {
      "text/plain": [
       "<function __main__.estimatePI(n_trials=10)>"
      ]
     },
     "execution_count": 65,
     "metadata": {},
     "output_type": "execute_result"
    }
   ],
   "source": [
    "interact(estimatePI, n_trials=widgets.IntSlider(min=2, max=10000, step=100, value=1000))"
   ]
  },
  {
   "cell_type": "code",
   "execution_count": null,
   "metadata": {},
   "outputs": [],
   "source": []
  }
 ],
 "metadata": {
  "file_extension": ".py",
  "hide_input": false,
  "kernelspec": {
   "display_name": "Python 3",
   "language": "python",
   "name": "python3"
  },
  "language_info": {
   "codemirror_mode": {
    "name": "ipython",
    "version": 3
   },
   "file_extension": ".py",
   "mimetype": "text/x-python",
   "name": "python",
   "nbconvert_exporter": "python",
   "pygments_lexer": "ipython3",
   "version": "3.6.7"
  },
  "mimetype": "text/x-python",
  "name": "python",
  "npconvert_exporter": "python",
  "pygments_lexer": "ipython3",
  "varInspector": {
   "cols": {
    "lenName": 16,
    "lenType": 16,
    "lenVar": 40
   },
   "kernels_config": {
    "python": {
     "delete_cmd_postfix": "",
     "delete_cmd_prefix": "del ",
     "library": "var_list.py",
     "varRefreshCmd": "print(var_dic_list())"
    },
    "r": {
     "delete_cmd_postfix": ") ",
     "delete_cmd_prefix": "rm(",
     "library": "var_list.r",
     "varRefreshCmd": "cat(var_dic_list()) "
    }
   },
   "types_to_exclude": [
    "module",
    "function",
    "builtin_function_or_method",
    "instance",
    "_Feature"
   ],
   "window_display": false
  },
  "version": 3
 },
 "nbformat": 4,
 "nbformat_minor": 2
}
